{
 "cells": [
  {
   "cell_type": "code",
   "execution_count": null,
   "metadata": {},
   "outputs": [],
   "source": [
    "import pandas as pd;\n",
    "import numpy as np;\n",
    "import seaborn as sns;\n",
    "import matplotlib as plt;\n",
    "from scipy import stats;\n",
    "import streamlit as st;\n",
    "import plotly.express as px;\n",
    "\n",
    "vehicles = pd.read_csv(\"C:\\\\Users\\\\Administrator\\\\Desktop\\\\pandasapp\\\\tripleten\\\\vehicles_us.csv\");\n",
    "\n",
    "\n",
    "\n",
    "\n",
    "fig = px.scatter(vehicles, x=\"model_year\", y=\"price\", title=\"Average Price per Car Model Year\");\n",
    "fig = px.box(vehicles, x=\"model_year\", y=\"price\", title=\"Average Price per Car Model Year\");\n",
    "\n",
    "\n",
    "st.plotly_chart(fig);\n",
    "fig.show();"
   ]
  }
 ],
 "metadata": {
  "language_info": {
   "name": "python"
  }
 },
 "nbformat": 4,
 "nbformat_minor": 2
}
